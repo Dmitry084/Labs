{
  "cells": [
    {
      "cell_type": "markdown",
      "metadata": {
        "id": "view-in-github",
        "colab_type": "text"
      },
      "source": [
        "<a href=\"https://colab.research.google.com/github/Dmitry084/Labs/blob/master/%D0%98%D0%BD%D1%84_%D1%81%D0%B8%D1%81%D1%82%D0%B5%D0%BC%D1%8B.ipynb\" target=\"_parent\"><img src=\"https://colab.research.google.com/assets/colab-badge.svg\" alt=\"Open In Colab\"/></a>"
      ]
    },
    {
      "cell_type": "code",
      "source": [
        "import requests\n",
        "\n",
        "def search_books_google(query, max_results=5):\n",
        "    base_url = \"https://www.googleapis.com/books/v1/volumes\"\n",
        "    params = {\n",
        "        'q': query,\n",
        "        'maxResults': max_results\n",
        "    }\n",
        "    response = requests.get(base_url, params=params)\n",
        "    if response.status_code == 200:\n",
        "        return response.json().get('items', [])\n",
        "    else:\n",
        "        print(\"Ошибка при запросе к Google Books API\")\n",
        "        return []\n",
        "\n",
        "def get_book_details_openlibrary(isbn):\n",
        "    base_url = \"https://openlibrary.org/api/books\"\n",
        "    params = {\n",
        "        'bibkeys': f'ISBN:{isbn}',\n",
        "        'format': 'json',\n",
        "        'jscmd': 'data'\n",
        "    }\n",
        "    response = requests.get(base_url, params=params)\n",
        "    if response.status_code == 200:\n",
        "        data = response.json()\n",
        "        key = f\"ISBN:{isbn}\"\n",
        "        if key in data:\n",
        "            book_data = data[key]\n",
        "            details = {\n",
        "                'publish_date': book_data.get('publish_date'),\n",
        "                'number_of_pages': book_data.get('number_of_pages'),\n",
        "                'url': book_data.get('preview_url')\n",
        "            }\n",
        "            return details\n",
        "    return {}\n",
        "\n",
        "def extract_isbn(volume_info):\n",
        "    identifiers = volume_info.get('industryIdentifiers', [])\n",
        "    for ident in identifiers:\n",
        "        if ident['type'] in ['ISBN_10', 'ISBN_13']:\n",
        "            return ident['identifier']\n",
        "    return None\n",
        "\n",
        "def display_books(books):\n",
        "    for i, book in enumerate(books):\n",
        "        vol_info = book.get('volumeInfo', {})\n",
        "        title = vol_info.get('title', 'Без названия')\n",
        "        authors = ', '.join(vol_info.get('authors', ['Неизвестный автор']))\n",
        "        description = vol_info.get('description', 'Описание отсутствует')\n",
        "        isbn = extract_isbn(vol_info)\n",
        "        ol_details = {}\n",
        "        if isbn:\n",
        "            ol_details = get_book_details_openlibrary(isbn)\n",
        "\n",
        "        print(f\"\\n{'-'*60}\")\n",
        "        print(f\"{i+1}. {title} — {authors}\")\n",
        "        print(f\"Описание: {description}\")\n",
        "        print(f\"Год издания: {ol_details.get('publish_date', 'не указан')}\")\n",
        "        print(f\"Количество страниц: {ol_details.get('number_of_pages', 'не указано')}\")\n",
        "        preview_link = ol_details.get('url', vol_info.get('infoLink'))\n",
        "        print(f\"Ссылка: {preview_link}\")\n",
        "\n",
        "# Основная функция\n",
        "def main():\n",
        "    query = input(\"Введите ключевое слово для поиска книги (автор, жанр или название): \")\n",
        "    books = search_books_google(query)\n",
        "    if not books:\n",
        "        print(\"Ничего не найдено.\")\n",
        "    else:\n",
        "        display_books(books)\n",
        "\n",
        "if __name__ == \"__main__\":\n",
        "    main()"
      ],
      "metadata": {
        "id": "RsjdNrvhnraf",
        "outputId": "c7a9446b-02c7-4fc6-be4e-31b7c61db33e",
        "colab": {
          "base_uri": "https://localhost:8080/"
        }
      },
      "execution_count": null,
      "outputs": [
        {
          "output_type": "stream",
          "name": "stdout",
          "text": [
            "Введите ключевое слово для поиска книги (автор, жанр или название): Повесть временных лет\n",
            "\n",
            "------------------------------------------------------------\n",
            "1. Повесть временных лет — Сборник\n",
            "Описание: На страницах летописей оживает прошлое Руси. «Повесть временных лет» – это не просто древнейший из дошедших до нас летописных сводов, перечисляющий факты из истории государства, это памятник литературы и многовековая панорама судеб, битв и событий. Мы видим, как осмысляет себя Русская земля как могущественное государство с самостоятельной политикой, уникальной культурой и историей. Владимир Мономах – один из самых талантливых и образованных русских князей домонгольской поры – в своем «Поучении» наставляет потомков помнить об историческом единстве Руси и необходимости бескорыстного служения родине. И недаром святыми покровителями и защитниками Русской земли становится братья Борис и Глеб.В формате PDF A4 сохранен издательский макет книги.\n",
            "Год издания: не указан\n",
            "Количество страниц: не указано\n",
            "Ссылка: https://play.google.com/store/books/details?id=xrD1EAAAQBAJ&source=gbs_api\n",
            "\n",
            "------------------------------------------------------------\n",
            "2. Повесть временных лет — Летописец Нестор\n",
            "Описание: «Повесть временных лет» – летопись, рассказывающая о происхождении русской земли, о первых русских князьях и о событиях X – начала XII в.\n",
            "Год издания: не указан\n",
            "Количество страниц: не указано\n",
            "Ссылка: http://books.google.com/books?id=aJfdCgAAQBAJ&dq=%D0%9F%D0%BE%D0%B2%D0%B5%D1%81%D1%82%D1%8C+%D0%B2%D1%80%D0%B5%D0%BC%D0%B5%D0%BD%D0%BD%D1%8B%D1%85+%D0%BB%D0%B5%D1%82&hl=&source=gbs_api\n",
            "\n",
            "------------------------------------------------------------\n",
            "3. Повесть временных лет и ее источники — А.А. Шахматов\n",
            "Описание: В данном труде выдающегося историка А.А.Шахматова рассматриваются вопросы списков, объема, состава, источников «Повести временных лет». Работа будет интересна историкам, филологам, аспирантам, студентам.\n",
            "Год издания: не указан\n",
            "Количество страниц: не указано\n",
            "Ссылка: http://books.google.com/books?id=w8P_AgAAQBAJ&dq=%D0%9F%D0%BE%D0%B2%D0%B5%D1%81%D1%82%D1%8C+%D0%B2%D1%80%D0%B5%D0%BC%D0%B5%D0%BD%D0%BD%D1%8B%D1%85+%D0%BB%D0%B5%D1%82&hl=&source=gbs_api\n",
            "\n",
            "------------------------------------------------------------\n",
            "4. Повесть временных лет по Лаврентьевскому списку — Неизвестный автор\n",
            "Описание: Описание отсутствует\n",
            "Год издания: не указан\n",
            "Количество страниц: не указано\n",
            "Ссылка: https://play.google.com/store/books/details?id=_KA-AQAAMAAJ&source=gbs_api\n",
            "\n",
            "------------------------------------------------------------\n",
            "5. Текстология Древней Руси. Том 1. Повесть временных лет — Сергей Бугославский\n",
            "Описание: Вниманию читателя предлагаются ранее не издававшиеся историко-филологические работы выдающегося ученого Сергея Алексеевича Бугославского, написанные им в последние годы жизни – «Повесть временных лет» (1939) и «Древнерусские литературные произведения о Борисе и Глебе» (1940).С. А. Бугославский был одним из первых, кто выступил против господствующего в отечественной науке XIX – начале XX вв. «конъектурального метода» критики памятников древнерусской литературы. Именно поэтому он по праву может считаться одним из основателей классической текстологии в России.Издание настоящих работ имеет целью не только воздать должное памяти талантливого историка и филолога, но и познакомить современного читателя с трудами, представляющими и сегодня научно-практический и методологический интерес.\n",
            "Год издания: не указан\n",
            "Количество страниц: не указано\n",
            "Ссылка: https://play.google.com/store/books/details?id=8XxqAAAAQBAJ&source=gbs_api\n"
          ]
        }
      ]
    }
  ],
  "metadata": {
    "colab": {
      "toc_visible": true,
      "provenance": [],
      "include_colab_link": true
    },
    "kernelspec": {
      "display_name": "Python 3",
      "name": "python3"
    }
  },
  "nbformat": 4,
  "nbformat_minor": 0
}